{
 "cells": [
  {
   "cell_type": "markdown",
   "metadata": {
    "collapsed": true
   },
   "source": [
    "# Statistical Analysis of Police Shootings in the US"
   ]
  },
  {
   "cell_type": "markdown",
   "metadata": {
    "collapsed": true
   },
   "source": [
    "## Introduction "
   ]
  },
  {
   "cell_type": "markdown",
   "metadata": {},
   "source": [
    "By: Michael Gary \n",
    "\n",
    "Date: 10/9/17 - 10/30/17\n",
    "\n",
    "*Please run the graphs twice if they appear inaccurate*\n",
    "\n",
    "\n",
    "\n",
    "Through this analysis, I hope to answer 3 questions:\n",
    "1. How does gun ownership percentages in a state relate to the number of police shootings?\n",
    "2. Is there a correlation between the percentage of African Americans in a state's population and how many police shootings have occurred in that state?\n",
    "3. How does the total population of a state relate to the number of police shootings in that state?"
   ]
  },
  {
   "cell_type": "markdown",
   "metadata": {},
   "source": [
    "## About the Data Sets"
   ]
  },
  {
   "cell_type": "markdown",
   "metadata": {},
   "source": [
    "I have been given 3 data sets that provide:\n",
    "- The number of shootings carried out in most major cities of each state with breakdown by race: (PoliceViolence_city.csv)\n",
    "- Every state's population and the percentage that African Americans account for in that population: (states.csv)\n",
    "- Accounts of police killings all over the country by local police departments: (KilledByPolice.csv)\n",
    "\n",
    "In addition to these given data sets, I have decided to use data from a Business Insider article about gun ownership in the United States: http://www.businessinsider.com/gun-ownership-by-state-2015-7\n",
    "The article was published on July 3, 2015 by Andy Kiersz and Brett LoGiurato. Thus the data is from gun ownership in 2015. I have included the visual representation of the data in the article.\n",
    "\n",
    "*Which data sets will I use?*\n",
    "\n",
    "I will use every data set that I have written about except the KilledByPolice.csv file. I felt that this data set provided more categorical data than quantitative and overall the data was very messy.\n",
    "\n",
    "<img src=\"shootings.png\">"
   ]
  },
  {
   "cell_type": "markdown",
   "metadata": {},
   "source": [
    "## Preparing the Data"
   ]
  },
  {
   "cell_type": "markdown",
   "metadata": {
    "collapsed": true
   },
   "source": [
    "The data that I have been given is rather sloppy and incomplete. I want to graph the relationship between the number of police shootings in each state and the corresponding gun ownership percentages. \n",
    "\n",
    "- Unfortunately, the data that I have been given only provides the number of police shootings in 1-3 of each state's major cities\n",
    "- Thus, I am going to have to select one major city from each state and use that sample to represent the population\n",
    "- I will simply select the city that a) I recognize and know to be the largest city or b) If I don't recognize any of the cities, I will choose the city with the largest population\n",
    "- In addition, there is absolutely no data on police shootings in a total of 18 states \n",
    "- While this greatly reduces the sample size, it does not seem to be showing that the data is biased. If the states that were missing predominantly had a high number of police shootings, then maybe I would investigate biases within the data that could potentially skew my results\n",
    "\n",
    "Preparing the data was somewhat tricky for this lab. First, I created variables for each state and set them equal to the corresponding state's gun ownership percentage (based on Business Insider Data). Then, I used the PoliceViolence_city csv file to find the number of police shootings in each state. As I mentioned before, I had to choose the largest/recognizable city to represent the population of the state. Once I realized that the csv file only accounted for 32 states, I simply commented out the state variables with gun ownership percentages that I did not have matching police shooting data on. Now, I was ready to model the data. "
   ]
  },
  {
   "cell_type": "markdown",
   "metadata": {},
   "source": [
    "## Preparing & Modeling the Data"
   ]
  },
  {
   "cell_type": "code",
   "execution_count": 88,
   "metadata": {},
   "outputs": [
    {
     "data": {
      "image/png": "[encoded data removed]",
      "text/plain": [
       "<matplotlib.figure.Figure at 0x117f74e10>"
      ]
     },
     "metadata": {},
     "output_type": "display_data"
    },
    {
     "name": "stdout",
     "output_type": "stream",
     "text": [
      "best fit line:\n",
      "y = 28.58 + -0.40x\n"
     ]
    },
    {
     "data": {
      "text/plain": [
       "-0.28572756209265454"
      ]
     },
     "execution_count": 88,
     "metadata": {},
     "output_type": "execute_result"
    }
   ],
   "source": [
    "# each variable below is denoted with a state name and set equal to the corresponding percentage of gun ownership  \n",
    "WA = 27.7\n",
    "OR = 26.6 \n",
    "CA = 20.1\n",
    "AZ = 32.3\n",
    "NV = 37.5\n",
    "# UT = 31.9 \n",
    "# ID = 56.9\n",
    "# MT = 52.3\n",
    "# WY = 53.8\n",
    "CO = 34.3\n",
    "NM = 49.9\n",
    "NE = 19.8\n",
    "# SD = 35\n",
    "# ND = 47.9\n",
    "KS = 32.2\n",
    "OK = 31.2\n",
    "TX = 35.7\n",
    "MN = 36.7\n",
    "# IA = 33.8\n",
    "MO = 27.1\n",
    "# AR = 57.9\n",
    "LA = 44.5\n",
    "WI = 34.7\n",
    "IL = 26.2\n",
    "MI = 28.8\n",
    "# KY = 42.4\n",
    "TN = 39.4\n",
    "# MS = 42.8\n",
    "AL = 48.9\n",
    "OH = 19.6\n",
    "GA = 31.6\n",
    "FL = 32.5\n",
    "# SC = 44.4\n",
    "NC = 28.7\n",
    "VA = 29.3\n",
    "# WV = 54.2\n",
    "PA = 27.1\n",
    "MD = 20.7\n",
    "DC = 25.9\n",
    "# DE = 5.2\n",
    "NJ = 11.3\n",
    "NY = 10.3\n",
    "# VT = 28.8\n",
    "# NH = 14.4\n",
    "# ME = 22.6\n",
    "MA = 22.6\n",
    "# RI = 5.8\n",
    "# CT = 16.6\n",
    "AK = 61.7\n",
    "HI = 45.1\n",
    "# these values will be along the x-axis\n",
    "import matplotlib.pyplot as plt\n",
    "# now I have imported the python function called matplotlib\n",
    "# in this bracket, I will have my coordinates\n",
    "plt.plot([], [], 'ro')\n",
    "# the first list includes the Xs and the second has the Ys\n",
    "X = [27.7, 26.6, 20.1, 32.3, 37.5, 34.3, 49.9, 19.8, 32.2, 31.2, 35.7, 36.7, 27.1, 44.5, 34.7, 26.2, 28.8, 39.4, 48.9, 19.6, 31.6, 32.5, 28.7, 29.3, 27.1, 20.7, 25.9, 11.3, 10.3, 22.6, 61.7, 45.1]\n",
    "# now I will input the Y values of police shootings\n",
    "Y = [15, 7, 14, 59, 5, 17, 15, 3, 7, 31, 28, 10, 19, 8, 6, 55, 9, 7, 5, 23, 7, 15, 4, 3, 20, 26, 13, 3, 57, 7, 6, 8]\n",
    "plt.axis([0, 65, 0, 65])\n",
    "# this is my graphs scale (it is slightly unusual but it fits the data well)\n",
    "plt.ylabel('Number of Police Shootings')\n",
    "plt.xlabel('Gun Ownership % By State')\n",
    "# labels for the axes\n",
    "plt.show()\n",
    "# now I want to find the line of regression and plot it\n",
    "def best_fit(X, Y):\n",
    "\n",
    "    xbar = sum(X)/len(X)\n",
    "    ybar = sum(Y)/len(Y)\n",
    "    n = len(X) # or len(Y)\n",
    "\n",
    "    numer = sum([xi*yi for xi,yi in zip(X, Y)]) - n * xbar * ybar\n",
    "    denum = sum([xi**2 for xi in X]) - n * xbar**2\n",
    "\n",
    "    b = numer / denum\n",
    "    a = ybar - b * xbar\n",
    "\n",
    "    print('best fit line:\\ny = {:.2f} + {:.2f}x'.format(a, b))\n",
    "\n",
    "    return a, b\n",
    "\n",
    "# solution\n",
    "a, b = best_fit(X, Y)\n",
    "\n",
    "# plot points and fit line\n",
    "plt.scatter(X, Y)\n",
    "yfit = [a + b * xi for xi in X]\n",
    "plt.plot(X, yfit)\n",
    "# now I need to find the correlation coefficient to see the strength of the line of best fit\n",
    "import numpy as np\n",
    "# importing the numpy program\n",
    "np.corrcoef(X, Y)[0, 1]\n",
    "# 0-1 is the range that r can lie in\n",
    "# r can be positive or negative but the relationships I'm plotting are all positive"
   ]
  },
  {
   "cell_type": "markdown",
   "metadata": {},
   "source": [
    "## Modeling the Data"
   ]
  },
  {
   "cell_type": "markdown",
   "metadata": {},
   "source": [
    "Once I finished preparing the data, I began to fit it into a mathematical model. I wanted to graph the relationship between gun ownership by state and the number of police shootings in that state's largest city. Before I began this lab, I just had a feeling that there would be a correlation between these two variables. To show this relationship, I decided to use a linear regression. I put the gun ownership percentages into the X values bracket and the police shootings into the Y values bracket. Then I ran a regression and found the correlation coefficient and the line of best fit equation.\n",
    "\n",
    "After examining the scatter plot, I decided to eliminate the 3 points (I thought they were influential points) that were far above the others. I then ran another regression of the new data to see how my results would change."
   ]
  },
  {
   "cell_type": "code",
   "execution_count": 90,
   "metadata": {},
   "outputs": [
    {
     "data": {
      "image/png": "[encoded data removed]",
      "text/plain": [
       "<matplotlib.figure.Figure at 0x118a547f0>"
      ]
     },
     "metadata": {},
     "output_type": "display_data"
    },
    {
     "name": "stdout",
     "output_type": "stream",
     "text": [
      "best fit line:\n",
      "y = 14.48 + -0.09x\n"
     ]
    },
    {
     "data": {
      "text/plain": [
       "-0.12186404949091986"
      ]
     },
     "execution_count": 90,
     "metadata": {},
     "output_type": "execute_result"
    }
   ],
   "source": [
    "import matplotlib.pyplot as plt\n",
    "# now I have imported the python function called matplotlib\n",
    "# in this bracket, I will have my coordinates\n",
    "plt.plot([], [], 'ro')\n",
    "# the first list includes the Xs and the second has the Ys\n",
    "X_out = [27.7, 26.6, 20.1, 37.5, 34.3, 49.9, 19.8, 32.2, 31.2, 35.7, 36.7, 27.1, 44.5, 34.7, 28.8, 39.4, 48.9, 19.6, 31.6, 32.5, 28.7, 29.3, 27.1, 25.9, 11.3, 10.3, 22.6, 61.7, 45.1]\n",
    "# now I will input the Y values of police shootings\n",
    "Y_out = [15, 7, 14, 5, 17, 15, 3, 7, 31, 28, 10, 19, 8, 6, 9, 7, 5, 23, 7, 15, 4, 3, 20, 26, 13, 3, 7, 6, 8]\n",
    "plt.axis([0, 65, 0, 65])\n",
    "# this is my graphs scale (it is slightly unusual but it fits the data well)\n",
    "plt.ylabel('Number of Police Shootings')\n",
    "plt.xlabel('Gun Ownership % By State')\n",
    "# labels for the axes\n",
    "plt.show()\n",
    "# now I want to find the line of regression and plot it\n",
    "def best_fit(X_out, Y_out):\n",
    "\n",
    "    xbar = sum(X_out)/len(X_out)\n",
    "    ybar = sum(Y_out)/len(Y_out)\n",
    "    n = len(X_out) # or len(Y_out)\n",
    "\n",
    "    numer = sum([xi*yi for xi,yi in zip(X_out, Y_out)]) - n * xbar * ybar\n",
    "    denum = sum([xi**2 for xi in X_out]) - n * xbar**2\n",
    "\n",
    "    b = numer / denum\n",
    "    a = ybar - b * xbar\n",
    "\n",
    "    print('best fit line:\\ny = {:.2f} + {:.2f}x'.format(a, b))\n",
    "\n",
    "    return a, b\n",
    "\n",
    "# solution\n",
    "a, b = best_fit(X_out, Y_out)\n",
    "\n",
    "# plot points and fit line\n",
    "plt.scatter(X_out, Y_out)\n",
    "yfit = [a + b * xi for xi in X_out]\n",
    "plt.plot(X_out, yfit)\n",
    "# now I need to find the correlation coefficient to see the strength of the line of best fit\n",
    "import numpy as np\n",
    "# importing the numpy program\n",
    "np.corrcoef(X_out, Y_out)[0, 1]\n",
    "# 0-1 is the range that r can lie in\n",
    "# r can be positive or negative but the relationships I'm plotting are all positive"
   ]
  },
  {
   "cell_type": "markdown",
   "metadata": {},
   "source": [
    "## Analysis"
   ]
  },
  {
   "cell_type": "markdown",
   "metadata": {
    "collapsed": true
   },
   "source": [
    "*First Graph Results:*\n",
    "\n",
    "- Correlation coefficient = -0.28...\n",
    "- Best fit equation was y = 28.58 + -0.40x\n",
    "- The scatter was relatively even except for the outlying 3 points\n",
    "- Based on the correlation coefficient, there is a small negative correlation between the percentages of gun ownership in each state and the number of police shootings in each state\n",
    "\n",
    "*Second Graph Results:*\n",
    "\n",
    "- After finding the correlation between my selected variables to be rather small, I decided to remove the outlier points\n",
    "- I hoped that maybe by removing these points, the trendline would fit the data better\n",
    "- Unfortunately the r coeffecient went down (r=-0.12...)\n",
    "- The line of best fit equation became y = 14.48 + -0.09x\n",
    "- Thus, removing the outliers did not cause an increase in correlation\n",
    "\n",
    "*Further Investigation:*\n",
    "- Maybe the percentage of non-hunting weapons ownership correlates to police shootings. This would remove hunting rifles and focus on weapons that often cause trouble and lead to shootings (assault rifles, hand guns, etc)\n",
    "- Investigate the relationship between the percentage of people in each state's population that carry a hand gun on them and the number of police shootings "
   ]
  },
  {
   "cell_type": "markdown",
   "metadata": {},
   "source": [
    "## Preparing the Data"
   ]
  },
  {
   "cell_type": "markdown",
   "metadata": {
    "collapsed": true
   },
   "source": [
    "In this next section, I wanted to see the relationship between the percentages of African Americans in a state's population and the number of police shootings in each state. Once again, I only had shooting data for 32 states from the PoliceViolence_city csv file, so I only used population data from the same 32 states. I procured the African American population percentage data from a csv file named \"states\". Thankfully, I didn't have to do anything to the states.csv file because it was very clean and neat."
   ]
  },
  {
   "cell_type": "markdown",
   "metadata": {},
   "source": [
    "## Modeling the Data"
   ]
  },
  {
   "cell_type": "code",
   "execution_count": 91,
   "metadata": {},
   "outputs": [
    {
     "data": {
      "image/png": "[encoded data removed]",
      "text/plain": [
       "<matplotlib.figure.Figure at 0x1142fc668>"
      ]
     },
     "metadata": {},
     "output_type": "display_data"
    },
    {
     "name": "stdout",
     "output_type": "stream",
     "text": [
      "best fit line:\n",
      "y = 17.18 + -0.09x\n"
     ]
    },
    {
     "data": {
      "text/plain": [
       "-0.061508888670578021"
      ]
     },
     "execution_count": 91,
     "metadata": {},
     "output_type": "execute_result"
    }
   ],
   "source": [
    "# I am going to use the percentages of African American people in each state's population as the X values\n",
    "# the Y values will be the same Y values from the previous graphed relationship\n",
    "X_pop = [3.74, 2.01, 6.67, 4.16, 9, 10.34, 2.97, 4.5, 6.15, 7.96, 11.91, 4.57, 11.49, 32.40, 6.07, 14.88, 14.24, 16.78, 26.38, 12.04, 31.4, 15.91, 21.6, 19.91, 10.79, 30.1, 50.07, 14.46, 15.18, 8.1, 4.27, 3.08]\n",
    "Y_pop = [15, 7, 14, 59, 5, 17, 15, 3, 7, 31, 28, 10, 19, 8, 6, 55, 9, 7, 5, 23, 7, 15, 4, 3, 20, 26, 13, 3, 57, 7, 6, 8]\n",
    "plt.axis([0, 65, 0, 65])\n",
    "# this is my graphs scale (it is slightly unusual but it fits the data well)\n",
    "plt.ylabel('Number of Police Shootings')\n",
    "plt.xlabel('Percentage of African Americans in State Population')\n",
    "# labels for the axes\n",
    "plt.show()\n",
    "# now I want to find the line of regression and plot it\n",
    "def best_fit(X_pop, Y_pop):\n",
    "\n",
    "    xbar = sum(X_pop)/len(X_pop)\n",
    "    ybar = sum(Y_pop)/len(Y_pop)\n",
    "    n = len(X_pop) # or len(Y_out)\n",
    "\n",
    "    numer = sum([xi*yi for xi,yi in zip(X_pop, Y_pop)]) - n * xbar * ybar\n",
    "    denum = sum([xi**2 for xi in X_pop]) - n * xbar**2\n",
    "\n",
    "    b = numer / denum\n",
    "    a = ybar - b * xbar\n",
    "\n",
    "    print('best fit line:\\ny = {:.2f} + {:.2f}x'.format(a, b))\n",
    "\n",
    "    return a, b\n",
    "\n",
    "# solution\n",
    "a, b = best_fit(X_pop, Y_pop)\n",
    "\n",
    "# plot points and fit line\n",
    "plt.scatter(X_pop, Y_pop)\n",
    "yfit = [a + b * xi for xi in X_pop]\n",
    "plt.plot(X_pop, yfit)\n",
    "# now I need to find the correlation coefficient to see the strength of the line of best fit\n",
    "import numpy as np\n",
    "# importing the numpy program\n",
    "np.corrcoef(X_pop, Y_pop)[0, 1]\n",
    "# 0-1 is the range that r can lie in\n",
    "# r can be positive or negative but the relationships I'm plotting are all positive"
   ]
  },
  {
   "cell_type": "markdown",
   "metadata": {},
   "source": [
    "## Modeling the Data"
   ]
  },
  {
   "cell_type": "markdown",
   "metadata": {},
   "source": [
    "I needed to find the relationship between the percentages of African Americans in a state's population and the number of police shootings in each state. I put the population percentages in the X values bracket and the number of police shootings in the Y values bracket. Then I ran a linear regression and found the correlation coefficient and the equation of the line of best fit. Once again, I wanted to see how removing outliers would affect my results. I removed the 3 seemingly influential points from the data and ran another regression."
   ]
  },
  {
   "cell_type": "code",
   "execution_count": 93,
   "metadata": {},
   "outputs": [
    {
     "data": {
      "image/png": "[encoded data removed]",
      "text/plain": [
       "<matplotlib.figure.Figure at 0x1136b77f0>"
      ]
     },
     "metadata": {},
     "output_type": "display_data"
    },
    {
     "name": "stdout",
     "output_type": "stream",
     "text": [
      "best fit line:\n",
      "y = 11.78 + -0.00x\n"
     ]
    },
    {
     "data": {
      "text/plain": [
       "-0.0026791678432896309"
      ]
     },
     "execution_count": 93,
     "metadata": {},
     "output_type": "execute_result"
    }
   ],
   "source": [
    "# I am going to use the percentages of African American people in each state's population as the X values\n",
    "# the Y values will be the same Y values from the previous graphed relationship\n",
    "X_pop = [3.74, 2.01, 6.67, 9, 10.34, 2.97, 4.5, 6.15, 7.96, 11.91, 4.57, 11.49, 32.40, 6.07, 14.24, 16.78, 26.38, 12.04, 31.4, 15.91, 21.6, 19.91, 10.79, 30.1, 50.07, 14.46, 8.1, 4.27, 3.08]\n",
    "Y_pop = [15, 7, 14, 5, 17, 15, 3, 7, 31, 28, 10, 19, 8, 6, 9, 7, 5, 23, 7, 15, 4, 3, 20, 26, 13, 3, 7, 6, 8]\n",
    "plt.axis([0, 65, 0, 65])\n",
    "# this is my graphs scale (it is slightly unusual but it fits the data well)\n",
    "plt.ylabel('Number of Police Shootings')\n",
    "plt.xlabel('Percentage of African Americans in State Population')\n",
    "# labels for the axes\n",
    "plt.show()\n",
    "# now I want to find the line of regression and plot it\n",
    "def best_fit(X_pop, Y_pop):\n",
    "\n",
    "    xbar = sum(X_pop)/len(X_pop)\n",
    "    ybar = sum(Y_pop)/len(Y_pop)\n",
    "    n = len(X_pop) # or len(Y_out)\n",
    "\n",
    "    numer = sum([xi*yi for xi,yi in zip(X_pop, Y_pop)]) - n * xbar * ybar\n",
    "    denum = sum([xi**2 for xi in X_pop]) - n * xbar**2\n",
    "\n",
    "    b = numer / denum\n",
    "    a = ybar - b * xbar\n",
    "\n",
    "    print('best fit line:\\ny = {:.2f} + {:.2f}x'.format(a, b))\n",
    "\n",
    "    return a, b\n",
    "\n",
    "# solution\n",
    "a, b = best_fit(X_pop, Y_pop)\n",
    "\n",
    "# plot points and fit line\n",
    "plt.scatter(X_pop, Y_pop)\n",
    "yfit = [a + b * xi for xi in X_pop]\n",
    "plt.plot(X_pop, yfit)\n",
    "# now I need to find the correlation coefficient to see the strength of the line of best fit\n",
    "import numpy as np\n",
    "# importing the numpy program\n",
    "np.corrcoef(X_pop, Y_pop)[0, 1]\n",
    "# 0-1 is the range that r can lie in\n",
    "# r can be positive or negative but the relationships I'm plotting are all positive"
   ]
  },
  {
   "cell_type": "markdown",
   "metadata": {},
   "source": [
    "## Analysis"
   ]
  },
  {
   "cell_type": "markdown",
   "metadata": {},
   "source": [
    "*First Graph Results:*\n",
    "\n",
    "- Correlation coefficient = -0.06...\n",
    "- Best fit equation was y = 17.18 + -0.09x\n",
    "- The scatter was relatively even except for the outlying 3 points\n",
    "- Based on the correlation coefficient, there is essentially no correlation between the percentages of African Americans in each state and the number of police shootings in each state\n",
    "\n",
    "*Second Graph Results:*\n",
    "\n",
    "- After finding the correlation between my selected variables to be zero, I decided to remove the outlier points again\n",
    "- I hoped that maybe by removing these points, the trendline would fit the data better and some sort of correlation would emerge\n",
    "- Unfortunately the r coeffecient went down even further (r=-0.002...)\n",
    "- The line of best fit equation became y = 11.78 + -0.00x\n",
    "- Again, removing the outliers did not cause an increase in correlation\n",
    "\n",
    "*Further Investigation:*\n",
    "- Investigate the number of police shootings in predominantly African American neighborhoods versus predominantly white neighborhoods. I would guess that there is a large disparity"
   ]
  },
  {
   "cell_type": "markdown",
   "metadata": {},
   "source": [
    "## Preparing the Data"
   ]
  },
  {
   "cell_type": "markdown",
   "metadata": {},
   "source": [
    "To answer my final lab question, I did the same thing that I did to answer my 2nd question. The only difference was that I used total population size vs police shootings instead of percentages of African Americans in each state's population vs police shootings. I used the states csv file to get the population data and the PoliceViolence_city csv file for the police shootings data. "
   ]
  },
  {
   "cell_type": "markdown",
   "metadata": {},
   "source": [
    "## Modeling the Data"
   ]
  },
  {
   "cell_type": "markdown",
   "metadata": {},
   "source": [
    "Since I wanted to find the relationship between total population and number of police shootings, I put the state populations in the X values bracket and the number of police shootings in the Y values bracket. Then using these two lists, I ran a linear regression to find the correlation between the two variables. I generated the r coefficient and the line of best fit equation."
   ]
  },
  {
   "cell_type": "code",
   "execution_count": 98,
   "metadata": {},
   "outputs": [
    {
     "data": {
      "image/png": "[encoded data removed]",
      "text/plain": [
       "<matplotlib.figure.Figure at 0x118330780>"
      ]
     },
     "metadata": {},
     "output_type": "display_data"
    },
    {
     "name": "stdout",
     "output_type": "stream",
     "text": [
      "best fit line:\n",
      "y = 5.02 + 0.00x\n"
     ]
    },
    {
     "data": {
      "text/plain": [
       "0.66677548490921112"
      ]
     },
     "execution_count": 98,
     "metadata": {},
     "output_type": "execute_result"
    }
   ],
   "source": [
    "# I am going to use each state's population as the X values\n",
    "# the Y values will be the same Y values from the previous graphed relationship\n",
    "X_tot = [7170351, 4028977, 39144818, 2890845, 5456574, 2085109, 1896190, 2911641, 3911338, 27469114, 5489594, 6083672, 4670724, 5771337, 12859995, 9922576, 6600299, 4858979, 11613423, 10214860, 20271272, 10042802, 8382993, 12802503, 6006401, 672228, 8958013, 19795791, 6794422, 738432, 1431603]\n",
    "Y_tot = [7, 14, 59, 5, 17, 15, 3, 7, 31, 28, 10, 19, 8, 6, 55, 9, 7, 5, 23, 7, 15, 4, 3, 20, 26, 13, 3, 57, 7, 6, 8]\n",
    "plt.axis([0, 40000000, 0, 65])\n",
    "# this is my graphs scale (it is slightly unusual but it fits the data well)\n",
    "plt.ylabel('Number of Police Shootings')\n",
    "plt.xlabel('Total State Population')\n",
    "# labels for the axes\n",
    "plt.show()\n",
    "# now I want to find the line of regression and plot it\n",
    "def best_fit(X_tot, Y_tot):\n",
    "\n",
    "    xbar = sum(X_tot)/len(X_tot)\n",
    "    ybar = sum(Y_tot)/len(Y_tot)\n",
    "    n = len(X_tot) # or len(Y_tot)\n",
    "\n",
    "    numer = sum([xi*yi for xi,yi in zip(X_tot, Y_tot)]) - n * xbar * ybar\n",
    "    denum = sum([xi**2 for xi in X_tot]) - n * xbar**2\n",
    "\n",
    "    b = numer / denum\n",
    "    a = ybar - b * xbar\n",
    "\n",
    "    print('best fit line:\\ny = {:.2f} + {:.2f}x'.format(a, b))\n",
    "\n",
    "    return a, b\n",
    "\n",
    "# solution\n",
    "a, b = best_fit(X_tot, Y_tot)\n",
    "\n",
    "# plot points and fit line\n",
    "plt.scatter(X_tot, Y_tot)\n",
    "yfit = [a + b * xi for xi in X_tot]\n",
    "plt.plot(X_tot, yfit)\n",
    "# now I need to find the correlation coefficient to see the strength of the line of best fit\n",
    "import numpy as np\n",
    "# importing the numpy program\n",
    "np.corrcoef(X_tot, Y_tot)[0, 1]\n",
    "# 0-1 is the range that r can lie in\n",
    "# r can be positive or negative but the relationships I'm plotting are all positive"
   ]
  },
  {
   "cell_type": "markdown",
   "metadata": {},
   "source": [
    "## Analysis"
   ]
  },
  {
   "cell_type": "markdown",
   "metadata": {
    "collapsed": true
   },
   "source": [
    "*Graph Results:*\n",
    "\n",
    "- Correlation coefficient = -0.66...\n",
    "- Best fit equation was y = 5.02 + 0.00x\n",
    "- Based on the correlation coefficient, there is a moderately strong, positive relationship between the total population of a state and the number of police shootings it has\n",
    "- Of all the variables that I studied, total population seems to be the greatest indicator of the number of police shootings"
   ]
  },
  {
   "cell_type": "markdown",
   "metadata": {},
   "source": [
    "## Conclusions"
   ]
  },
  {
   "cell_type": "markdown",
   "metadata": {
    "collapsed": true
   },
   "source": [
    "Here is a rundown of my conclusions and areas for further study: \n",
    "\n",
    "- There is a small negative correlation between the percentages of gun ownership in each state and the number of police shootings in each state\n",
    "- There is essentially no correlation between the percentages of African Americans in each state and the number of police shootings in each state\n",
    "- There is a moderately strong, positive relationship between the total population of a state and the number of police shootings it has\n",
    "- Of all the variables that I studied, total population seems to be the greatest indicator of the number of police shootings\n",
    "\n",
    "\n",
    "\n",
    "- Maybe the percentage of non-hunting weapons ownership correlates to police shootings. This would remove hunting rifles and focus on weapons that often cause trouble and lead to shootings (assault rifles, hand guns, etc)\n",
    "- Investigate the relationship between the percentage of people in each state's population that carry a hand gun on them and the number of police shootings\n",
    "- Investigate the number of police shootings in predominantly African American neighborhoods versus predominantly white neighborhoods. I would guess that there is a large disparity\n"
   ]
  },
  {
   "cell_type": "markdown",
   "metadata": {},
   "source": [
    "## Acknowledgements"
   ]
  },
  {
   "cell_type": "markdown",
   "metadata": {},
   "source": [
    "- Thanks to Doran Wu for giving me LOTS of python shortcuts, tips, and tricks \n",
    "- Thanks to Ms. Sconyers for helping me effectively ask questions and analyze my results\n",
    "- Thank you to Business Insider for the additional data set"
   ]
  }
 ],
 "metadata": {
  "kernelspec": {
   "display_name": "Python 3",
   "language": "python",
   "name": "python3"
  },
  "language_info": {
   "codemirror_mode": {
    "name": "ipython",
    "version": 3
   },
   "file_extension": ".py",
   "mimetype": "text/x-python",
   "name": "python",
   "nbconvert_exporter": "python",
   "pygments_lexer": "ipython3",
   "version": "3.6.1"
  }
 },
 "nbformat": 4,
 "nbformat_minor": 2
}
